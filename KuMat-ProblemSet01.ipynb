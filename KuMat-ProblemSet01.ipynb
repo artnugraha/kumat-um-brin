{
 "cells": [
  {
   "cell_type": "markdown",
   "id": "removable-concern",
   "metadata": {},
   "source": [
    "# Problem Set 01 - Kuliah Teori Kuantum Material\n",
    "\n",
    "## Nama: Tulis Nama Lengkap\n",
    "## NIM: Tulis NIM"
   ]
  },
  {
   "cell_type": "markdown",
   "id": "noticed-technology",
   "metadata": {},
   "source": [
    "### Instruksi Pengerjaan:\n",
    "\n",
    "- Bagi yang menguasai penulisan dokumen dengan Jupyter Notebook, sangat disarankan untuk langsung mengerjakan seluruh soal pada kolom jawaban yang disediakan pada Jupyter Notebook ini. \n",
    "\n",
    "- Mahasiswa yang tidak sanggup menulis dengan Jupyter Notebook, boleh menggunakan perangkat lunak lainnya (Word/LaTeX/dll.) dalam mengerjakan Problem Set ini. Boleh juga menggunakan tulisan tangan dan difoto/*scan*.\n",
    "\n",
    "- Jawaban **wajib** dikirimkan melalui email ahmad.ridwan.tresna.nugraha@brin.go.id dengan **CC** art.nugraha@gmail.com, paling lambat pada **21 September 2025, pukul 23.59 WIB**.\n",
    "\n",
    "- Selama pengerjaan, mahasiswa boleh melihat apapun, referensi dari buku, catatan kuliah, ataupun teman yang dianggap lebih jago. \n",
    "\n",
    "- **Kerja sama antarmahasiswa sangat dibolehkan** dalam pengerjaan Problem Set ini. Namun, **DILARANG KERAS** menyalin jawaban apa adanya dari teman yang lain.\n",
    "\n",
    "- Jika ada indikasi seorang mahasiswa menyalin jawaban yang sama persis, khususnya untuk bagian \"Penjelasan\" pada kolom jawaban, maka mahasiswa yang menyontek maupun yang disontek akan sama-sama diberi nilai 0 untuk seluruh Problem Set ini."
   ]
  },
  {
   "cell_type": "markdown",
   "id": "single-shape",
   "metadata": {},
   "source": [
    "### Aturan Penilaian:\n",
    "\n",
    "- Setiap soal akan dinilai secara \"**biner**\". Artinya, jika jawaban mahasiswa benar, nilai setiap soal adalah 10. Jika salah, nilainya 0.\n",
    "\n",
    "- Setiap soal perlu dijawab langsung dengan ringkas sesuai pilihan yang diberikan jika pertanyaan berupa pilihan ganda (atau isian jawaban angka jika pertanyaan uraian). \n",
    "\n",
    "- Bagian \"Penjelasan\" pada kolom jawaban akan dijadikan sebagai landasan penilai untuk menentukan apakah mahasiswa menjawab soal dengan \"hitung kancing\" atau benar-benar paham jawabannya. Jika mahasiswa memberikan jawaban yang benar dengan penjelasan keliru, sesuai prinsip penilaian biner, nilai untuk soal tersebut akan menjadi 0.\n",
    "\n",
    "- **Nilai total maksimal** dari mengerjakan seluruh Soal 1-10 adalah **100 poin**, sedangkan **nilai minimal** adalah **0 poin**.\n",
    "\n",
    "- Mahasiswa yang menemukan kesalahan pada soal, misalnya suatu soal pilihan ganda yang ditanyakan pada Problem Set ini ternyata tidak ada jawabannya, akan langsung diberikan nilai 10 *khusus* hanya untuk soal tersebut. Mahasiswa lain yang percaya saja bahwa suatu soal ada jawabannya yang benar (padahal soalnya salah), akan diberikan nilai 0."
   ]
  },
  {
   "cell_type": "markdown",
   "id": "upper-chest",
   "metadata": {},
   "source": [
    "***"
   ]
  },
  {
   "cell_type": "markdown",
   "id": "actual-organic",
   "metadata": {},
   "source": [
    "# Soal 1\n",
    "\n",
    "Untuk sistem satu dimensi (1D), nilai harap dari energi kinetik dapat dituliskan sebagai\n",
    "\n",
    "\\begin{equation*}\n",
    "K =  - \\frac{{{\\hbar ^2}}}{{2m}} \\int_{ - \\infty }^{ + \\infty } \\psi \\left( x \\right)\\frac{{{d^2}}}{{d{x^2}}}\\psi \\left( x \\right)dx\n",
    "\\end{equation*}\n",
    "\n",
    "Definisi ini tidak terlalu jelas menunjukkan energi kinetik \"pasti\" tidak negatif sebagaimana dalam mekanika klasik. Namun, energi kinetik dalam mekanika kuantum ternyata dapat pula dituliskan sebagai\n",
    "\n",
    "\\begin{equation*}\n",
    "K = \\frac{{{\\hbar ^2}}}{{2m}}\\int_{ - \\infty }^{ + \\infty } {\\left({\\frac{d}{{dx}}\\psi \\left( x \\right)} \\right)^2}dx\n",
    "\\end{equation*}\n",
    "\n",
    "yang lebih jelas menunjukkan bahwa nilai harap energi kinetik dalam mekanika kuantum pasti tidak negatif.\n",
    "\n",
    "Kita bisa mengubah persamaan energi kinetik pertama ke persamaan kedua dengan menggunakan integral parsial:\n",
    "\n",
    "\\begin{equation*}\n",
    "\\int u dv = uv - \\int v du\n",
    "\\end{equation*}\n",
    "\n",
    "Dari pilihan jawaban berikut ini, manakah pilihan yang tepat untuk fungsi $u$ dan $v$?\n",
    "\n",
    "- (A) $u = \\psi(x)$; $v = \\displaystyle\\frac{d}{dx} \\psi(x)$\n",
    "- (B) $u = \\displaystyle\\frac{d}{{dx}}\\psi(x)$; $v = \\psi(x)$\n",
    "- (C) $u = \\displaystyle\\frac{d^2}{dx^2}\\psi(x)$; $v = \\psi(x)$\n",
    "- (D) $u = \\displaystyle\\frac{d}{dx}\\psi(x)$; $v = \\frac{d}{dx} \\psi(x)$"
   ]
  },
  {
   "cell_type": "markdown",
   "id": "binding-administrator",
   "metadata": {},
   "source": [
    "## Jawaban 1: \n",
    "(A)/(B)/(C)/(D) (Pilih salah satu, hapus yang tidak diinginkan)\n",
    "\n",
    "### Penjelasan:\n",
    "\n",
    "Tulis penjelasanmu di sini."
   ]
  },
  {
   "cell_type": "markdown",
   "id": "trying-idaho",
   "metadata": {},
   "source": [
    "***"
   ]
  },
  {
   "cell_type": "markdown",
   "id": "liquid-association",
   "metadata": {},
   "source": [
    "# Soal 2\n",
    "\n",
    "Berapa nilai kecenderungan dari fungsi gelombang suatu sistem 1D berhingga pada $x = \\pm \\infty$?\n",
    "\n",
    "- (A) $1$\n",
    "- (B) $+\\infty$\n",
    "- (C) $0$\n",
    "- (D) $-\\infty$"
   ]
  },
  {
   "cell_type": "markdown",
   "id": "intimate-congo",
   "metadata": {},
   "source": [
    "## Jawaban 2: \n",
    "(A)/(B)/(C)/(D) (Pilih salah satu, hapus yang tidak diinginkan)\n",
    "\n",
    "### Penjelasan:\n",
    "\n",
    "Tulis penjelasanmu di sini."
   ]
  },
  {
   "cell_type": "markdown",
   "id": "palestinian-monkey",
   "metadata": {},
   "source": [
    "***"
   ]
  },
  {
   "cell_type": "markdown",
   "id": "pleased-shelf",
   "metadata": {},
   "source": [
    "# Soal 3\n",
    "\n",
    "Model sumur potensial 1D dapat digunakan untuk memahami spektrum optik dari beberapa molekul. Tinjaulah tiga molekul pewarna terkonjugasi (*conjugated dye molecules*). Sebagian elektron yang dikenal dengan sebutan $\\pi$-*electrons* pada molekul-molekul ini relatif dapat bergerak bebas ke sekitarnya sehingga boleh diaproksimasi sebagai elektron bebas pada sumur kuantum dengan potensial tak hingga. Lebar sumur $L$ sama dengan panjang molekul tersebut. $\\pi$-*electrons* dapat tereksitasi ke tingkat energi lebih tinggi dengan menyerap energi yang dibawa foton. Kemudian, jika sudah tereksitasi, elektron-elektron tersebut dapat pula berelaksasi ke energi yang lebih rendah dengan memancarkan foton. Dalam hal ini, perbedaan energi antara dua keadaan kuantum elektron dapat terukur oleh eksperimen melalui spektrum absorpsi atau emisi optik.\n",
    "\n",
    "Misalkan pada konfigurasi keadaan dasar kita taruh sebanyak $N$ buah $\\pi$-*electrons* ke dalam $N/2$ tingkat terendah dari sumur kuantum karena prinsip eksklusi Pauli menyatakan bahwa kita bisa menempatkan dua elektron per tingkat energi orbital. Energi foton terendah yang dapat diserap oleh molekul-molekul ini akan mengangkat sebuah elektron dari tingkat energi terisi paling atas (*highest occupied level*), yakni tingkat ke-$n = N/2$, ke tingkat energi terdekat berikutnya, yakni tingkat ke-$n^\\prime$, yang masih kosong (*lowest unoccupied level*). \n",
    "\n",
    "Dalam aproksimasi ini, apa rumus yang tepat menyatakan energi dari tingkat terendah yang tadinya masih kosong (*lowest unoccupied level*) itu?\n",
    "\n",
    "- (A) $E_{n^\\prime} = \\displaystyle\\frac{\\hbar^2 \\pi^2}{2m} \\left(\\frac{N}{L}\\right)^2$\n",
    "- (B) $E_{n^\\prime} = \\displaystyle\\frac{\\hbar^2 \\pi^2}{2m} \\left(\\frac{N+1}{L}\\right)^2$\n",
    "- (C) $E_{n^\\prime} = \\displaystyle\\frac{\\hbar^2 \\pi^2}{2m} \\left(\\frac{(N/2)+1}{L}\\right)^2$\n",
    "- (D) $E_{n^\\prime} = \\displaystyle\\frac{\\hbar^2 \\pi^2}{2m} \\left(\\frac{(N/2)}{L}\\right)^2$"
   ]
  },
  {
   "cell_type": "markdown",
   "id": "recovered-classic",
   "metadata": {},
   "source": [
    "## Jawaban 3: \n",
    "(A)/(B)/(C)/(D) (Pilih salah satu, hapus yang tidak diinginkan)\n",
    "\n",
    "### Penjelasan:\n",
    "\n",
    "Tulis penjelasanmu di sini."
   ]
  },
  {
   "cell_type": "markdown",
   "id": "federal-chosen",
   "metadata": {},
   "source": [
    "***"
   ]
  },
  {
   "cell_type": "markdown",
   "id": "divided-great",
   "metadata": {},
   "source": [
    "# Soal 4\n",
    "\n",
    "Untuk setiap molekul pewarna yang ditunjukkan di Soal 3, tabel di bawah ini memberikan jumlah ($N$) dari $\\pi$-*electrons*, panjang molekul ($L$) dan panjang gelombang ($\\lambda_{\\text{exp}}$) yang teramati dari spektrum absorpsi maupun emisi. \n",
    "\n",
    "| Nama molekul | *N* | *L* (nm) | ($\\lambda_{\\text{exp}}$) (nm) |\n",
    "| :---: | :---: | :---: | :---: |\n",
    "| Cyanine | 6 | 0,834 | 523 |\n",
    "| Pinacyanol | 8 | 1,112 | 605 | \n",
    "| Dicarbocyanine | 10 | 1,390 | 706 |\n",
    "\n",
    "Hitunglah energi dari tingkat terisi tertinggi (*highest occupied level*) dan tingkat kosong terendah (*lowest unoccupied level*) untuk masing-masing molekul pewarna dalam satuan eV. Tuliskan jawaban sampai dua angka di belakang koma."
   ]
  },
  {
   "cell_type": "markdown",
   "id": "roman-flexibility",
   "metadata": {},
   "source": [
    "## Jawaban 4:\n",
    "\n",
    "| Nama molekul | $E_n$ | $E_{n^\\prime}$ |\n",
    "| :---: | :---: | :---: |\n",
    "| Cyanine | Tulis jawaban di sini | Tulis jawaban di sini |\n",
    "| Pinacyanol | Tulis jawaban di sini | Tulis jawaban di sini |\n",
    "| Dicarbocyanine | Tulis jawaban di sini | Tulis jawaban di sini |\n",
    "\n",
    "**Catatan**: $E_n$ adalah energi dari tingkat terisi tertinggi, sedangkan $E_{n^\\prime}$ adalah energi dari tingkat kosong terendah.\n",
    "\n",
    "### Penjelasan:\n",
    "\n",
    "Tulis penjelasanmu di sini."
   ]
  },
  {
   "cell_type": "markdown",
   "id": "partial-brass",
   "metadata": {},
   "source": [
    "***"
   ]
  },
  {
   "cell_type": "markdown",
   "id": "bizarre-medium",
   "metadata": {},
   "source": [
    "# Soal 5\n",
    "\n",
    "Panjang gelombang ($\\lambda_{\\text{exp}}$) yang tertera pada tabel di Soal 4 adalah hasil pengukuran eksperimen. Hitunglah panjang gelombang berdasarkan teori ($\\lambda_{\\text{th}}$) untuk molekul pewarna dalam model sumur potensial 1D. Jawaban dinyatakan dalam satuan nm."
   ]
  },
  {
   "cell_type": "markdown",
   "id": "imported-germany",
   "metadata": {},
   "source": [
    "## Jawaban 5:\n",
    "\n",
    "| Nama molekul | $\\lambda_{\\text{th}}$ |\n",
    "| :---: | :---: |\n",
    "| Cyanine | Tulis jawaban di sini |\n",
    "| Pinacyanol | Tulis jawaban di sini |\n",
    "| Dicarbocyanine | Tulis jawaban di sini |\n",
    "\n",
    "### Penjelasan:\n",
    "\n",
    "Tulis penjelasanmu di sini."
   ]
  },
  {
   "cell_type": "markdown",
   "id": "collect-plane",
   "metadata": {},
   "source": [
    "***"
   ]
  },
  {
   "cell_type": "markdown",
   "id": "historical-bunch",
   "metadata": {},
   "source": [
    "# Soal 6\n",
    "\n",
    "Ada beberapa aproksimasi pada model sumur potensial 1D untuk molekul pewarna ini yang mengakibatkan perbedaan panjang gelombang prediksi teori ($\\lambda_{\\text{th}}$) dan data panjang gelombang eksperimen ($\\lambda_{\\text{exp}}$). Manakah aproksimasi yang dimaksud dari pilihan berikut ini?\n",
    "\n",
    "- (A) Potensial dianggap konstan untuk elektron-elektron di dalam sumur.\n",
    "- (B) Interaksi antar-elektron diabaikan.\n",
    "- (C) Potensial di luar molekul dianggap tak hingga besarnya.\n",
    "- (D) Semua pilihan benar."
   ]
  },
  {
   "cell_type": "markdown",
   "id": "duplicate-macedonia",
   "metadata": {},
   "source": [
    "## Jawaban 6: \n",
    "(A)/(B)/(C)/(D) (Pilih salah satu, hapus yang tidak diinginkan)\n",
    "\n",
    "### Penjelasan:\n",
    "\n",
    "Tulis penjelasanmu di sini."
   ]
  },
  {
   "cell_type": "markdown",
   "id": "neither-fleet",
   "metadata": {},
   "source": [
    "***"
   ]
  },
  {
   "cell_type": "markdown",
   "id": "charged-jersey",
   "metadata": {},
   "source": [
    "# Soal 7\n",
    "\n",
    "Untuk jumlah elektron yang sama, model sumur potensial 1D memprediksi adanya peningkatan energi foton yang terserap oleh molekul akibat efek pengurungan kuantum (*quantum confinement*). Apakah pernyataan ini benar atau salah?"
   ]
  },
  {
   "cell_type": "markdown",
   "id": "choice-bottom",
   "metadata": {},
   "source": [
    "## Jawaban 7:\n",
    "\n",
    "Benar/Salah (Pilih salah satu, hapus yang tidak diinginkan)\n",
    "\n",
    "### Penjelasan:\n",
    "\n",
    "Tulis penjelasanmu di sini."
   ]
  },
  {
   "cell_type": "markdown",
   "id": "rapid-plain",
   "metadata": {},
   "source": [
    "***"
   ]
  },
  {
   "cell_type": "markdown",
   "id": "confirmed-arrangement",
   "metadata": {},
   "source": [
    "# Soal 8\n",
    "\n",
    "Atom hidrogen adalah satu-satunya unsur kimia yang persamaan mekanika kuantumnya dapat dipecahkan secara eksak tanpa banyak aproksimasi. Selain itu, bentuk analitik dari fungsi gelombangnya dapat diketahui. Anggaplah proton dipatok pada satu titik tetap dalam ruang. Dari pilihan jawaban berikut, manakah ekspresi yang benar untuk nilai harap dari energi kinetik atom hidrogen dinyatakan dalam fungsi gelombang $\\psi$?\n",
    "\n",
    "- (A) $K = - \\frac{\\hbar ^2}{2m}\\int \\psi \\nabla^2\\psi d^3\\mathbf{r}$\n",
    "- (B) $K = - \\frac{\\hbar ^2}{2m}\\int (\\nabla\\psi)^2 d^3\\mathbf{r}$\n",
    "- (C) $K = \\frac{\\hbar ^2}{2m}\\int \\psi \\nabla \\psi d^3\\mathbf{r}$\n",
    "- (D) $K = \\frac{\\hbar ^2}{2m}\\int \\psi \\nabla^2 \\psi d^3\\mathbf{r}$"
   ]
  },
  {
   "cell_type": "markdown",
   "id": "durable-deviation",
   "metadata": {},
   "source": [
    "## Jawaban 8:\n",
    "\n",
    "(A)/(B)/(C)/(D) (Pilih salah satu, hapus yang tidak diinginkan)\n",
    "\n",
    "### Penjelasan:\n",
    "\n",
    "Tulis penjelasanmu di sini."
   ]
  },
  {
   "cell_type": "markdown",
   "id": "coordinate-database",
   "metadata": {},
   "source": [
    "***"
   ]
  },
  {
   "cell_type": "markdown",
   "id": "standard-cherry",
   "metadata": {},
   "source": [
    "# Soal 9\n",
    "\n",
    "Fungsi gelombang dari keadaan dasar $1s$ atom hidrogen dapat dituliskan sebagai\n",
    "\n",
    "\\begin{equation*}\n",
    "\\psi_{1s} (r) = \\displaystyle \\frac{1}{\\sqrt{\\pi a_0^3}} \\exp \\left(- \\frac{r}{a_0} \\right)\n",
    "\\end{equation*}\n",
    "\n",
    "Untuk menghitung nilai harap energi kinetik maupun energi potensialnya, kita membutuhkan integrasi pada elemen volume koordinat bola, yakni $d^3\\mathbf{r} = r^2 \\sin \\theta dr d\\theta d\\phi$.  Elemen volume ini mengandung komponen sudut $\\theta$ dan $\\phi$ yang dapat diintegralkan terpisah dari komponen jari-jari bola $r$ karena fungsi gelombang $1s$ hanya bergantung pada $r$. Berapakah nilai dari integral komponen-komponen sudut tersebut?\n",
    "\n",
    "- (A) $\\pi$\n",
    "- (B) $\\pi/2$\n",
    "- (C) $2\\pi$\n",
    "- (D) $4\\pi$"
   ]
  },
  {
   "cell_type": "markdown",
   "id": "responsible-surgery",
   "metadata": {},
   "source": [
    "## Jawaban 9:\n",
    "\n",
    "(A)/(B)/(C)/(D) (Pilih salah satu, hapus yang tidak diinginkan)\n",
    "\n",
    "### Penjelasan:\n",
    "\n",
    "Tulis penjelasanmu di sini."
   ]
  },
  {
   "cell_type": "markdown",
   "id": "naughty-underground",
   "metadata": {},
   "source": [
    "***"
   ]
  },
  {
   "cell_type": "markdown",
   "id": "classical-station",
   "metadata": {},
   "source": [
    "# Soal 10\n",
    "\n",
    "Dengan menggunakan fungsi gelombang $1s$ pada Soal 9, berapakah nilai harap dari energi potensial atom hidrogen pada keadaan tersebut? Asumsikan konstanta Coulomb pada rumus potensial listrik bernilai satu.\n",
    "\n",
    "- (A) $\\displaystyle\\frac{e^2}{a_0^2}$\n",
    "\n",
    "- (B) $\\displaystyle\\frac{e^2}{a_0}$\n",
    "\n",
    "- (C) $\\displaystyle\\frac{e^2}{2a_0}$\n",
    "\n",
    "- (D) $-\\displaystyle\\frac{e^2}{a_0}$"
   ]
  },
  {
   "cell_type": "markdown",
   "id": "immune-terminal",
   "metadata": {},
   "source": [
    "## Jawaban 10:\n",
    "\n",
    "(A)/(B)/(C)/(D) (Pilih salah satu, hapus yang tidak diinginkan)\n",
    "\n",
    "### Penjelasan:\n",
    "\n",
    "Tulis penjelasanmu di sini."
   ]
  },
  {
   "cell_type": "markdown",
   "id": "included-organ",
   "metadata": {},
   "source": [
    "***"
   ]
  }
 ],
 "metadata": {
  "kernelspec": {
   "display_name": "Python 3 (ipykernel)",
   "language": "python",
   "name": "python3"
  },
  "language_info": {
   "codemirror_mode": {
    "name": "ipython",
    "version": 3
   },
   "file_extension": ".py",
   "mimetype": "text/x-python",
   "name": "python",
   "nbconvert_exporter": "python",
   "pygments_lexer": "ipython3",
   "version": "3.10.1"
  }
 },
 "nbformat": 4,
 "nbformat_minor": 5
}
