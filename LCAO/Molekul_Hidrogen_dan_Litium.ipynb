{
  "nbformat": 4,
  "nbformat_minor": 0,
  "metadata": {
    "colab": {
      "provenance": []
    },
    "kernelspec": {
      "name": "python3",
      "display_name": "Python 3"
    },
    "language_info": {
      "name": "python"
    }
  },
  "cells": [
    {
      "cell_type": "code",
      "metadata": {
        "colab": {
          "base_uri": "https://localhost:8080/"
        },
        "id": "OKUg2sK7MXGa",
        "outputId": "13b5188a-347d-4437-c5fb-8a2a47d1c664"
      },
      "source": [
        "# Mendapatkan nilai eigen untuk molekul hidrogen: energi ikatan dan antiikatan\n",
        "import numpy as np\n",
        "from scipy.linalg import eigh\n",
        "\n",
        "eps0 = 0.\n",
        "t    = -3.\n",
        "s    = 0.1\n",
        "\n",
        "H = np.array([[eps0, t   ],\n",
        "              [t   , eps0]])\n",
        "\n",
        "S = np.array([[1, s],\n",
        "              [s, 1]])\n",
        "\n",
        "E,C = eigh(H, S)\n",
        "print('E-value:', E)\n",
        "print('E-vector', C)"
      ],
      "execution_count": null,
      "outputs": [
        {
          "output_type": "stream",
          "name": "stdout",
          "text": [
            "E-value: [-2.72727273  3.33333333]\n",
            "E-vector [[-0.67419986 -0.74535599]\n",
            " [-0.67419986  0.74535599]]\n"
          ]
        }
      ]
    },
    {
      "cell_type": "code",
      "metadata": {
        "colab": {
          "base_uri": "https://localhost:8080/"
        },
        "id": "M6J2uS29S1UX",
        "outputId": "3c771cd6-d072-419a-9ca4-8e551a336ecf"
      },
      "source": [
        "# mengecek dengan hasil analitik\n",
        "\n",
        "Erendah = (eps0-t) / (1-s)\n",
        "Etinggi = (eps0+t) / (1+s)\n",
        "\n",
        "print('energi ikatan:', Erendah)\n",
        "print('energi antiikatan:', Etinggi)"
      ],
      "execution_count": null,
      "outputs": [
        {
          "output_type": "stream",
          "name": "stdout",
          "text": [
            "energi ikatan: 3.333333333333333\n",
            "energi antiikatan: -2.727272727272727\n"
          ]
        }
      ]
    },
    {
      "cell_type": "code",
      "metadata": {
        "colab": {
          "base_uri": "https://localhost:8080/"
        },
        "id": "cmiIIfdFT2dE",
        "outputId": "9ca17a88-2d3f-448b-f03f-c8fe5fd191a6"
      },
      "source": [
        "# Mendapatkan nilai eigen untuk molekul litium (Li3) rantai linear\n",
        "import numpy as np\n",
        "from scipy.linalg import eigh\n",
        "\n",
        "eps0 = 0\n",
        "t    = -1\n",
        "s    = 0\n",
        "\n",
        "H = np.array([[eps0, t    , eps0 ],\n",
        "              [t   , eps0 , t    ],\n",
        "              [eps0, t    , eps0 ]])\n",
        "\n",
        "S = np.array([[1, s, 0],\n",
        "              [s, 1, s],\n",
        "              [0, s, 1]])\n",
        "\n",
        "E,C = eigh(H, S)\n",
        "print('E-value:', E)\n",
        "print('E-vector', C)"
      ],
      "execution_count": null,
      "outputs": [
        {
          "output_type": "stream",
          "name": "stdout",
          "text": [
            "E-value: [-1.41421356e+00 -6.07153217e-18  1.41421356e+00]\n",
            "E-vector [[-5.00000000e-01 -7.07106781e-01  5.00000000e-01]\n",
            " [-7.07106781e-01 -4.85722573e-17 -7.07106781e-01]\n",
            " [-5.00000000e-01  7.07106781e-01  5.00000000e-01]]\n"
          ]
        }
      ]
    },
    {
      "cell_type": "code",
      "metadata": {
        "colab": {
          "base_uri": "https://localhost:8080/"
        },
        "id": "zRzt564bWK0O",
        "outputId": "5d3de082-1a4b-41a2-fd5c-644d7ee377bf"
      },
      "source": [
        "# Mendapatkan nilai eigen untuk molekul litium (Li3) segitiga\n",
        "import numpy as np\n",
        "from scipy.linalg import eigh\n",
        "\n",
        "eps0 = 0\n",
        "t    = -1\n",
        "s    = 0\n",
        "\n",
        "H = np.array([[eps0, t    , t    ],\n",
        "              [t   , eps0 , t    ],\n",
        "              [t   , t    , eps0 ]])\n",
        "\n",
        "S = np.array([[1, s, 0],\n",
        "              [s, 1, s],\n",
        "              [0, s, 1]])\n",
        "\n",
        "E,C = eigh(H, S)\n",
        "print('E-value:', E)\n",
        "print('E-vector', C)"
      ],
      "execution_count": null,
      "outputs": [
        {
          "output_type": "stream",
          "name": "stdout",
          "text": [
            "E-value: [-2.  1.  1.]\n",
            "E-vector [[ 0.57735027 -0.42250331  0.69868277]\n",
            " [ 0.57735027  0.81632869  0.01655721]\n",
            " [ 0.57735027 -0.39382538 -0.71523999]]\n"
          ]
        }
      ]
    }
  ]
}