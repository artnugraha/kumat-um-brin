{
 "cells": [
  {
   "cell_type": "markdown",
   "id": "removable-concern",
   "metadata": {},
   "source": [
    "# Problem Set 02 - Kuliah Teori Kuantum Material\n",
    "\n",
    "## Nama: Tulis Nama Lengkap\n",
    "## NIM: Tulis NIM"
   ]
  },
  {
   "cell_type": "markdown",
   "id": "noticed-technology",
   "metadata": {},
   "source": [
    "### Instruksi Pengerjaan:\n",
    "\n",
    "- Bagi yang menguasai penulisan dokumen dengan Jupyter Notebook, sangat disarankan untuk langsung mengerjakan seluruh soal pada kolom jawaban yang disediakan pada Jupyter Notebook ini. Saat membuka Jupyter Notebook, komputer harus **terhubung** dengan internet karena ada gambar pada soal yang merujuk ke tautan eksternal.\n",
    "\n",
    "- Mahasiswa yang tidak sanggup menulis dengan Jupyter Notebook, boleh menggunakan perangkat lunak lainnya (Word/LaTeX/dll.) dalam mengerjakan Problem Set ini. Boleh juga menggunakan tulisan tangan dan difoto/*scan*.\n",
    "\n",
    "- Jawaban **wajib** dikirimkan melalui email ahmad.ridwan.tresna.nugraha@brin.go.id **atau** art.nugraha@gmail.com, paling lambat pada **5 Oktober 2025, pukul 23.59 WIB**.\n",
    "\n",
    "- Wajib **kerjakan Soal 1-4**, sedangkan **Soal 5 adalah bonus**, boleh dikerjakan, boleh juga tidak dikerjakan.\n",
    "\n",
    "- Selama pengerjaan, mahasiswa boleh melihat apapun, referensi dari buku, catatan kuliah, ataupun teman yang dianggap lebih jago. \n",
    "\n",
    "- **Kerja sama antarmahasiswa sangat dibolehkan** dalam pengerjaan Problem Set ini. Namun, **DILARANG KERAS** menyalin jawaban apa adanya dari teman yang lain.\n",
    "\n",
    "- Jika ada indikasi seorang mahasiswa menyalin jawaban yang sama persis, maka mahasiswa yang menyontek maupun yang disontek akan sama-sama diberi nilai 0 untuk seluruh Problem Set ini."
   ]
  },
  {
   "cell_type": "markdown",
   "id": "single-shape",
   "metadata": {},
   "source": [
    "### Aturan Penilaian:\n",
    "\n",
    "- Setiap soal kali ini akan dinilai secara \"**proporsional**\" sesuai benar tidaknya satu langkah ke langkah berikutnya untuk mencapai jawaban yang diharapkan.\n",
    "\n",
    "- *Nilai maksimum* setiap soal adalah *25 poin*. Jika salah total, nilainya 0, tetapi jika ada langkah yang benar, ada kemungkinan setiap soal dinilai antara 0-25. \n",
    "\n",
    "- **Nilai total maksimal** dari mengerjakan seluruh Soal 1-4 adalah **100 poin**, sedangkan **nilai minimal** adalah **0 poin**. Soal 5 dapat memberikan bonus maksimal 25 poin jika ada kesalahan jawaban mahasiswa untuk Soal 1-4."
   ]
  },
  {
   "cell_type": "markdown",
   "id": "upper-chest",
   "metadata": {},
   "source": [
    "***"
   ]
  },
  {
   "cell_type": "markdown",
   "id": "186ffbd1",
   "metadata": {},
   "source": [
    "# Soal 1\n",
    "\n",
    "(a) (maks. 10 poin) Turunkan solusi lengkap persamaan Schrodinger untuk atom hidrogen yang terdiri atas 1 elektron dan 1 proton. \n",
    "\n",
    "(b) (maks. 5 poin) Dari solusi tersebut, tuliskan formula eksplisit untuk fungsi gelombang orbital 1$s$, 2$s$, 2$p_x$, 2$p_y$, dan 2$p_z$. \n",
    "\n",
    "(c) (maks. 10 poin) Buatlah visualisasi orbital 1$s$, 2$s$, 2$p_x$, 2$p_y$, dan 2$p_z$ sebagai fungsi ruang atau posisi. Kita bisa memanfaatkan pustaka visualisasi semacam Matplotlib dari Python."
   ]
  },
  {
   "cell_type": "markdown",
   "id": "73639045",
   "metadata": {},
   "source": [
    "## Jawaban 1: \n",
    "\n",
    "Tulis jawabanmu di sini."
   ]
  },
  {
   "cell_type": "markdown",
   "id": "actual-organic",
   "metadata": {},
   "source": [
    "# Soal 2\n",
    "\n",
    "Misalkan ada suatu kristal satu dimensi berbentuk rantai dengan sel satuan yang tersusun atas atom A dan atom B.  Jarak antara atom A dan atom B memiliki dua nilai, yakni untuk atom A dan B dalam satu sel bernilai $a_1$, sementara untuk atom A di suatu sel ke atom B di sel tetangga terdekatnya adalah $a_2$. Dalam hal ini, konstanta kisi dapat didefinisikan oleh $a = a_1 + a_2$.\n",
    "\n",
    "Energi *on-site* pada atom A diasumsikan sama dengan atom B (dengan kata lain, elemen matriks Hamiltonian $H_{AA} = H_{BB}$, misalkan saja diatur sebagai nilai referensi sebesar $0$), sementara kuat interaksi *hopping* antara atom A dengan atom B yang berada di dalam satu sel diasumsikan $t_1$ dan interaksi *hopping* antara atom A dengan atom B di tetangga sel yang berbeda adalah $t_2$. \n",
    "\n",
    "![kristalrantai1D](figs/kumatproset02-1.png)\n",
    "\n",
    "Sistem ini diilustrasikan pada gambar di atas. Berdasarkan informasi tersebut:\n",
    "\n",
    "(a) (maks. 15 poin) Turunkanlah formula untuk hubungan dispersi energi $E$ sebagai fungsi $k$, disertai parameter $t_1$, $t_2$, dan $a$.\n",
    "\n",
    "(b) (maks. 10 poin) Untuk $t_1 = t_2 = t$, buatlah sketsa hubungan dispersi energi dengan sumbu vertikal berupa $E/t$ dan sumbu horizontalnya adalah $k a / \\pi$. Upayakan ada kode programnya juga, misalnya dalam Python."
   ]
  },
  {
   "cell_type": "markdown",
   "id": "binding-administrator",
   "metadata": {},
   "source": [
    "## Jawaban 2: \n",
    "\n",
    "Tulis jawabanmu di sini."
   ]
  },
  {
   "cell_type": "markdown",
   "id": "trying-idaho",
   "metadata": {},
   "source": [
    "***"
   ]
  },
  {
   "cell_type": "markdown",
   "id": "liquid-association",
   "metadata": {},
   "source": [
    "# Soal 3\n",
    "\n",
    "Kristal trans-polyacetylene (CH)$_x$ dapat didefinisikan seperti pada gambar di bawah.\n",
    "![kristalkotak2D](figs/kumatproset02-2.png)\n",
    "\n",
    "Sistem ini dapat dipandang sebagai suatu rantai karbon satu dimensi dengan pola berulang A-B dalam satu selnya seperti diindikasikan pada gambar. Jika konstanta kisi didefinisikan $a$, maka jarak terdekat A dengan B adalah $a/2$. Kuat interaksi *hopping* antara A dan B yang terdekat diasumsikan sebesar $t$, kemudian *overlap*-nya adalah sebesar $s$.  Energi *on-site* untuk atom karbon meninjau orbital $p_z$ saja adalah $\\epsilon_{2p}$.  \n",
    "\n",
    "Berdasarkan informasi tersebut:\n",
    "\n",
    "(a) (maks. 15 poin) Turunkanlah formula untuk hubungan dispersi energi $E$ sebagai fungsi $k$ disertai parameter $t$, $s$, dan $\\epsilon_{2p}$, dan $a$.\n",
    "\n",
    "(b) (maks. 10 poin) Untuk $\\epsilon_{2p} = 0$, $t = -0.1~\\textrm{eV}$ dan $s = 0.2$, buatlah sketsa hubungan dispersi energi dengan sumbu vertikal berupa $E$ dan sumbu horizontalnya adalah $k a / \\pi$. Upayakan ada kode programnya juga, misalnya dalam Python."
   ]
  },
  {
   "cell_type": "markdown",
   "id": "intimate-congo",
   "metadata": {},
   "source": [
    "## Jawaban 3: \n",
    "\n",
    "Tulis jawabanmu di sini."
   ]
  },
  {
   "cell_type": "markdown",
   "id": "palestinian-monkey",
   "metadata": {},
   "source": [
    "***"
   ]
  },
  {
   "cell_type": "markdown",
   "id": "pleased-shelf",
   "metadata": {},
   "source": [
    "# Soal 4\n",
    "\n",
    "Misalkan ada suatu kristal dua dimensi berbentuk kotak sederhana dengan sel satuan berbentuk persegi sempurna yang tersusun atas satu atom saja.  Konstanta kisinya adalah $a$ seperti ditunjukkan pada gambar di bawah.\n",
    "\n",
    "![kristalkotak2D](figs/kumatproset02-3.png)\n",
    "\n",
    "Untuk kasus ini kita asumsikan ada dua macam interaksi, yakni antara atom dalam suatu sel satuan dengan atom-atom tetangga terdekat dan atom-atom tetangga terdekat berikutnya (terdekat kedua). Interaksi dengan tetangga terdekat dimisalkan sebagai $t$, sementara interaksi dengan tetangga terdekat kedua dimisalkan sebagai $t^\\prime$. \n",
    "\n",
    "Berdasarkan informasi tersebut:\n",
    "\n",
    "(a) (maks. 15 poin) Turunkanlah formula untuk hubungan dispersi energi $E$ sebagai fungsi $k_x$ dan $k_y$.\n",
    "\n",
    "(b) (maks. 10 poin) Untuk $t^\\prime = t/4$, buatlah sketsa hubungan dispersi energinya berupa permukaan energi yang diplot terhadap $k_x a / \\pi$ dan $k_y a / \\pi$. Upayakan ada kode programnya juga, misalnya dalam Python."
   ]
  },
  {
   "cell_type": "markdown",
   "id": "recovered-classic",
   "metadata": {},
   "source": [
    "## Jawaban 4: \n",
    "\n",
    "Tulis jawabanmu di sini."
   ]
  },
  {
   "cell_type": "markdown",
   "id": "de832959",
   "metadata": {},
   "source": [
    "# Soal 5\n",
    "\n",
    "Pada repositori kuliah, rekan-rekan dapat mengunduh program komputasi struktur elektronik hidrogen yang menghitung nilai energi keadaan dasarnya menggunakan superposisi fungsi Gaussian. Silakan eksplorasi program tersebut dengan, misalnya, (1) mengubah koefisien fungsi basis Gaussian yang digunakan, (2) mengubah jumlah fungsi Gaussian, (3) kreativitas lainnya, dan laporkan apa efeknya terhadap akurasi perhitungan keadaan dasar atom hidrogen. Perhatikan bahwa superposisi fungsi gelombang basis tsb sangat mirip metodenya dengan LCAO pada molekul maupun TB pada kristal, hanya saja dikerjakan untuk individu 1 buah atom hidrogen."
   ]
  },
  {
   "cell_type": "markdown",
   "id": "eleven-empire",
   "metadata": {},
   "source": [
    "## Jawaban 5: \n",
    "\n",
    "Tulis jawabanmu di sini."
   ]
  }
 ],
 "metadata": {
  "kernelspec": {
   "display_name": "Python 3 (ipykernel)",
   "language": "python",
   "name": "python3"
  },
  "language_info": {
   "codemirror_mode": {
    "name": "ipython",
    "version": 3
   },
   "file_extension": ".py",
   "mimetype": "text/x-python",
   "name": "python",
   "nbconvert_exporter": "python",
   "pygments_lexer": "ipython3",
   "version": "3.13.5"
  }
 },
 "nbformat": 4,
 "nbformat_minor": 5
}
