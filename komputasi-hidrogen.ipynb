{
 "cells": [
  {
   "cell_type": "markdown",
   "metadata": {},
   "source": [
    "**Seputar Metode Komputasi.** Kita tuliskan fungsi gelombang sebagai kombinasi linear dari fungsi-fungsi Gaussian:\n",
    " $$\\Psi = \\sum_i c_i e^{-\\alpha_ir^2}$$\n",
    "\n",
    "Masukkan ansatz ini ke Persamaan Schroedinger menghasilkan permasalahan nilai eigen:\n",
    " $$ \\mathbf{H} \\mathbf{C} = E \\mathbf{S} \\mathbf{C} $$\n",
    "dengan $\\mathbf{C}$ adalah vektor kolom berisi koefisien-koefisien fungsi gelombang, $\\mathbf{H}$ adalah matriks Hamiltonian, $\\mathbf{S}$ adalah matriks overlap, dan $E$ adalah energi.\n",
    "\n",
    "Keuntungan menggunakan fungsi Gaussian adalah bentuk integral pada elemen-elemen matriks Hamiltonian dan overlap dapat dievaluasi secara analitik. Permasalahan nilai eigen kemudian dapat diselesaikan langsung dengan pustaka aljabar linear."
   ]
  },
  {
   "cell_type": "code",
   "execution_count": 1,
   "metadata": {
    "extensions": {
     "jupyter_dashboards": {
      "version": 1,
      "views": {
       "grid_default": {
        "col": 0,
        "height": 4,
        "hidden": false,
        "row": 0,
        "width": 4
       },
       "report_default": {}
      }
     }
    }
   },
   "outputs": [],
   "source": [
    "import numpy as np\n",
    "import matplotlib.pyplot as plt\n",
    "from scipy import linalg"
   ]
  },
  {
   "cell_type": "code",
   "execution_count": 2,
   "metadata": {
    "extensions": {
     "jupyter_dashboards": {
      "version": 1,
      "views": {
       "grid_default": {
        "hidden": true
       },
       "report_default": {}
      }
     }
    }
   },
   "outputs": [
    {
     "name": "stdout",
     "output_type": "stream",
     "text": [
      "[13.00773    1.962079   0.444529   0.1219492]\n"
     ]
    }
   ],
   "source": [
    "# Define the width of the Gaussians in the basis sets\n",
    "# We will use atomic units throughout the code\n",
    "alpha = np.array( [13.00773, 1.962079, 0.444529, 0.1219492] )\n",
    "#alpha = np.array( [10, 2, 0.5, 0.1] )\n",
    "#alpha=np.random.rand(4)\n",
    "print(alpha)"
   ]
  },
  {
   "cell_type": "code",
   "execution_count": 3,
   "metadata": {
    "extensions": {
     "jupyter_dashboards": {
      "version": 1,
      "views": {
       "grid_default": {
        "hidden": true
       },
       "report_default": {}
      }
     }
    }
   },
   "outputs": [],
   "source": [
    "# Define overlap, kinetic energy and potential energy matrices\n",
    "S = np.zeros((4,4))\n",
    "T = np.zeros((4,4))\n",
    "V = np.zeros((4,4))"
   ]
  },
  {
   "cell_type": "markdown",
   "metadata": {},
   "source": [
    "$S_{ij}=\\int d^3r e^{-\\alpha_ir^2}e^{-\\alpha_jr^2}=\\left(\\frac{\\pi}{\\alpha_i+\\alpha_j}\\right)^{3/2}$"
   ]
  },
  {
   "cell_type": "markdown",
   "metadata": {},
   "source": [
    "$T_{ij}=\\int d^3r e^{-\\alpha_ir^2}\\nabla^2e^{-\\alpha_jr^2}=3\\frac{\\alpha_i\\alpha_j\\pi^{3/2}}{(\\alpha_i+\\alpha_j)^{5/2}}$"
   ]
  },
  {
   "cell_type": "markdown",
   "metadata": {},
   "source": [
    "$V_{ij}=\\int d^3r e^{-\\alpha_ir^2}\\frac{1}{r}e^{-\\alpha_jr^2}=-\\frac{2}{\\alpha_i+\\alpha_j}$"
   ]
  },
  {
   "cell_type": "code",
   "execution_count": 4,
   "metadata": {
    "extensions": {
     "jupyter_dashboards": {
      "version": 1,
      "views": {
       "grid_default": {
        "hidden": true
       },
       "report_default": {}
      }
     }
    }
   },
   "outputs": [],
   "source": [
    "#Compute the overlap, kinetic and potential energies matrices\n",
    "for i in range(alpha.size):\n",
    "    for j in range(alpha.size):\n",
    "        S[i,j] = (np.pi/(alpha[i]+alpha[j]))**(3./2.)\n",
    "        T[i,j] = 3.*(alpha[i]*alpha[j]*np.pi**(3./2.))/(alpha[i]+alpha[j])**(5./2.)\n",
    "        V[i,j] = -2.*np.pi/(alpha[i]+alpha[j])"
   ]
  },
  {
   "cell_type": "code",
   "execution_count": 5,
   "metadata": {
    "extensions": {
     "jupyter_dashboards": {
      "version": 1,
      "views": {
       "grid_default": {
        "col": 8,
        "height": 11,
        "hidden": false,
        "row": 0,
        "width": 4
       },
       "report_default": {}
      }
     }
    }
   },
   "outputs": [
    {
     "name": "stdout",
     "output_type": "stream",
     "text": [
      "Overlap matrix\n",
      "[[4.19640644e-02 9.61391815e-02 1.12857904e-01 1.17042513e-01]\n",
      " [9.61391815e-02 7.16316708e-01 1.49147774e+00 1.85084232e+00]\n",
      " [1.12857904e-01 1.49147774e+00 6.64247101e+00 1.30602054e+01]\n",
      " [1.17042513e-01 1.85084232e+00 1.30602054e+01 4.62286682e+01]]\n",
      "Hamiltonian matrix\n",
      "[[  0.57726847   0.07200247  -0.3215405   -0.43612626]\n",
      " [  0.07200247   0.50704993  -0.98918483  -2.37741992]\n",
      " [ -0.3215405   -0.98918483  -2.63808243  -7.34221693]\n",
      " [ -0.43612626  -2.37741992  -7.34221693 -17.30516271]]\n"
     ]
    }
   ],
   "source": [
    "# Print the matrices\n",
    "print(\"Overlap matrix\")\n",
    "print(S)\n",
    "print(\"Hamiltonian matrix\")\n",
    "H = T+V\n",
    "print(H)"
   ]
  },
  {
   "cell_type": "code",
   "execution_count": 6,
   "metadata": {
    "extensions": {
     "jupyter_dashboards": {
      "version": 1,
      "views": {
       "grid_default": {
        "col": 0,
        "height": 4,
        "hidden": false,
        "row": 4,
        "width": 4
       },
       "report_default": {}
      }
     }
    }
   },
   "outputs": [
    {
     "name": "stdout",
     "output_type": "stream",
     "text": [
      "Eigenvalues:  [21.14436519  2.59229957  0.11321392 -0.49927841]\n"
     ]
    }
   ],
   "source": [
    "#Solve the generalized eigenvalue problem\n",
    "# e are arrays with eigenvuales and eigenvectors\n",
    "# The eigenvualue corresponding to e[i] is the column w[:,i].\n",
    "e,w = linalg.eig(H,S)\n",
    "print(\"Eigenvalues: \", e.real)"
   ]
  },
  {
   "cell_type": "code",
   "execution_count": 7,
   "metadata": {
    "extensions": {
     "jupyter_dashboards": {
      "version": 1,
      "views": {
       "grid_default": {
        "col": 4,
        "height": 4,
        "hidden": false,
        "row": 4,
        "width": 4
       },
       "report_default": {}
      }
     }
    }
   },
   "outputs": [
    {
     "name": "stdout",
     "output_type": "stream",
     "text": [
      "Ground State Energy:  -0.4992784056674861\n",
      "Ground State Eigenvector:  [-0.34932283 -0.59255692 -0.67459675 -0.26789752]\n"
     ]
    }
   ],
   "source": [
    "# Print the ground state energy\n",
    "print(\"Ground State Energy: \", e.real.min())\n",
    "# Index of the ground state eigenvalue and eigenvector\n",
    "imin = e.real.argmin()\n",
    "# Ground state eigenvector, i.e. the gaussian coefficients of the ground state wavefunction\n",
    "psi = np.atleast_1d(w[:,imin])\n",
    "print(\"Ground State Eigenvector: \", psi)"
   ]
  },
  {
   "cell_type": "markdown",
   "metadata": {},
   "source": [
    "**Normalisasi fungsi gelombang.** Kita perlu menskalakan koefisien agar fungsi gelombang ternormalisasi:\n",
    " $$ \\int \\Psi^\\star \\Psi d^3r = 1 = \\int \\sum_i c_i exp(-\\alpha_ir^2) \\sum_j c_j exp(-\\alpha_jr^2) d^3r  $$\n",
    " $$ \\sum_{i,j} c_i c_j S_{ij} = 1 $$"
   ]
  },
  {
   "cell_type": "code",
   "execution_count": 8,
   "metadata": {
    "extensions": {
     "jupyter_dashboards": {
      "version": 1,
      "views": {
       "grid_default": {
        "col": 0,
        "height": 4,
        "hidden": false,
        "row": 12,
        "width": 4
       },
       "report_default": {}
      }
     }
    }
   },
   "outputs": [
    {
     "name": "stdout",
     "output_type": "stream",
     "text": [
      "13.212757071038311\n"
     ]
    }
   ],
   "source": [
    "#Normalize the ground state wavefunction. \n",
    "norm = 0.0\n",
    "for i in range(alpha.size):\n",
    "  for j in range(alpha.size):\n",
    "    norm = norm + psi[i]*psi[j]*S[i,j]\n",
    "print(norm)\n",
    "psi = psi / np.sqrt(norm)"
   ]
  },
  {
   "cell_type": "code",
   "execution_count": 9,
   "metadata": {
    "extensions": {
     "jupyter_dashboards": {
      "version": 1,
      "views": {
       "grid_default": {
        "col": 4,
        "height": 9,
        "hidden": false,
        "row": 15,
        "width": 4
       },
       "report_default": {}
      }
     }
    }
   },
   "outputs": [
    {
     "data": {
      "image/png": "[encoded data removed]",
      "text/plain": [
       "<Figure size 640x480 with 1 Axes>"
      ]
     },
     "metadata": {},
     "output_type": "display_data"
    }
   ],
   "source": [
    "#Plot numerical wavefunction, exact solution, and the individual gaussians.\n",
    "x = np.linspace(0, 5, 100)\n",
    "plt.plot(x, 1/np.sqrt(np.pi)*np.exp(-x), linewidth=2, color='red', label='Exact')\n",
    "plt.plot(x, abs(psi[0]*np.exp(-1.*alpha[0]*x*x) \n",
    "                + psi[1]*np.exp(-1.*alpha[1]*x*x) \n",
    "                + psi[2]*np.exp(-1.*alpha[2]*x*x) \n",
    "                + psi[3]*np.exp(-1.*alpha[3]*x*x)), linewidth=2, color='blue', label='Computational')\n",
    "plt.plot(x, abs(psi[0]*np.exp(-1.*alpha[0]*x*x)), linewidth=1, color='grey')\n",
    "plt.plot(x, abs(psi[1]*np.exp(-1.*alpha[1]*x*x)), linewidth=1, color='grey')\n",
    "plt.plot(x, abs(psi[2]*np.exp(-1.*alpha[2]*x*x)), linewidth=1, color='grey')\n",
    "plt.plot(x, abs(psi[3]*np.exp(-1.*alpha[3]*x*x)), linewidth=1, color='grey')\n",
    "plt.title('Ground State Energy: %.6f hartree' % e.real.min())\n",
    "plt.xlabel('Jarak (bohr)')\n",
    "plt.ylabel(r'Fungsi gelombang (1/bohr$^3$)')\n",
    "plt.show()"
   ]
  }
 ],
 "metadata": {
  "extensions": {
   "jupyter_dashboards": {
    "activeView": "grid_default",
    "version": 1,
    "views": {
     "grid_default": {
      "cellMargin": 10,
      "defaultCellHeight": 20,
      "maxColumns": 12,
      "name": "grid",
      "type": "grid"
     },
     "report_default": {
      "name": "report",
      "type": "report"
     }
    }
   }
  },
  "kernelspec": {
   "display_name": "Python 3 (ipykernel)",
   "language": "python",
   "name": "python3"
  },
  "language_info": {
   "codemirror_mode": {
    "name": "ipython",
    "version": 3
   },
   "file_extension": ".py",
   "mimetype": "text/x-python",
   "name": "python",
   "nbconvert_exporter": "python",
   "pygments_lexer": "ipython3",
   "version": "3.13.5"
  }
 },
 "nbformat": 4,
 "nbformat_minor": 1
}
